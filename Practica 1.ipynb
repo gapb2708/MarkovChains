{
 "cells": [
  {
   "cell_type": "code",
   "execution_count": 1,
   "metadata": {},
   "outputs": [],
   "source": [
    "import quantecon as qe\n",
    "import numpy as np\n"
   ]
  },
  {
   "cell_type": "code",
   "execution_count": 2,
   "metadata": {},
   "outputs": [
    {
     "name": "stdout",
     "output_type": "stream",
     "text": [
      "la probabilidad de conseguir empleo estando desempleado en 12 meses es 0.56\n"
     ]
    }
   ],
   "source": [
    "#b)\n",
    "def stationary(p1,p2,s1,s2,f1,f2,t):\n",
    "    P=np.array([[p1, s1, 1-p1-s1],\n",
    "     [s2, p2, 1-p2-s2],\n",
    "     [f1, f2, 1-f1-f2]])\n",
    "    pt=np.linalg.matrix_power(P,t)\n",
    "    return print(\"la probabilidad de conseguir empleo estando desempleado en \"+\n",
    "                 str(t)+\" meses es \"+str(round(pt[2,0],2)))\n",
    "stationary(0.9,0.8,0.09,0.19,0.1,0.05,12)"
   ]
  },
  {
   "cell_type": "code",
   "execution_count": 3,
   "metadata": {},
   "outputs": [
    {
     "name": "stdout",
     "output_type": "stream",
     "text": [
      "la tasa de desempleo de largo plazo es 0.06 y la tasa de empleo informal de largo plazo es 0.3\n"
     ]
    }
   ],
   "source": [
    "#c)\n",
    "def stationary(p1,p2,s1,s2,f1,f2):\n",
    "    P=np.array([[p1, s1, 1-p1-s1],\n",
    "     [s2, p2, 1-p2-s2],\n",
    "     [f1, f2, 1-f1-f2]])\n",
    "    pstat=qe.MarkovChain(P).stationary_distributions\n",
    "    return print(\"la tasa de desempleo de largo plazo es \"+ str(round(pstat[0,2],2))+ \n",
    "                 \" y la tasa de empleo informal de largo plazo es \"+ str(round(pstat[0,1],2)))\n",
    "stationary(0.9,0.8,0.09,0.19,0.1,0.05)"
   ]
  },
  {
   "cell_type": "code",
   "execution_count": 4,
   "metadata": {},
   "outputs": [
    {
     "name": "stdout",
     "output_type": "stream",
     "text": [
      "la tasa de desempleo de largo plazo es 0.06 y la tasa de empleo informal de largo plazo es 0.35\n"
     ]
    }
   ],
   "source": [
    "#d)\n",
    "stationary(0.9,0.84,0.09,0.15,0.1,0.05)\n",
    "# Vemos que la tasa de empleo informal de largo plazo aumenta 5 pp. Esto debido a que estamos haciendo que la probabilidad \n",
    "# de quedarse desempleado aumente /rho2 y al mismo tiempo estamos haciendo menos probable conseguir empleo formal /s2 si \n",
    "# una persona esta desempleada. Esto provoca que la probabilidad de ir al sector informal estando desempleado aumente. \n",
    "# La tasa de desempleo a largo plazo se mantiene igual\n"
   ]
  },
  {
   "cell_type": "code",
   "execution_count": 5,
   "metadata": {},
   "outputs": [
    {
     "name": "stdout",
     "output_type": "stream",
     "text": [
      "la tasa de desempleo de largo plazo es 0.14 y la tasa de empleo formal de largo plazo es 0.57\n"
     ]
    }
   ],
   "source": [
    "#e)\n",
    "def stationary(p1,p2,s1,s2,f1,f2):\n",
    "    P=np.array([[p1, s1, 1-p1-s1],\n",
    "     [s2, p2, 1-p2-s2],\n",
    "     [f1, f2, 1-f1-f2]])\n",
    "    pstat=qe.MarkovChain(P).stationary_distributions\n",
    "    return print(\"la tasa de desempleo de largo plazo es \"+ str(round(pstat[0,2],2))+ \n",
    "                 \" y la tasa de empleo formal de largo plazo es \"+ str(round(pstat[0,0],2)))\n",
    "stationary(0.9,0.8,0.09,0.15,0.1,0.05)\n",
    "# Vemos que como baja la probabilidad de pasar a ser empleado estando desempleado /s2, esto provocara que la tasa de de \n",
    "# desempleo suba 8pp y la caiga la tasa de empleo formal. Tambien es importante acotar que la tasa de empleo informal tambien \n",
    "# se ve afectada"
   ]
  }
 ],
 "metadata": {
  "kernelspec": {
   "display_name": "Python 3",
   "language": "python",
   "name": "python3"
  },
  "language_info": {
   "codemirror_mode": {
    "name": "ipython",
    "version": 3
   },
   "file_extension": ".py",
   "mimetype": "text/x-python",
   "name": "python",
   "nbconvert_exporter": "python",
   "pygments_lexer": "ipython3",
   "version": "3.8.5"
  }
 },
 "nbformat": 4,
 "nbformat_minor": 4
}
